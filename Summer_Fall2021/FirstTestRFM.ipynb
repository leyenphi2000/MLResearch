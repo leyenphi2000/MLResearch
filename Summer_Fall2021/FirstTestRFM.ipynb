{
 "cells": [
  {
   "cell_type": "markdown",
   "metadata": {},
   "source": [
    "## Setting up"
   ]
  },
  {
   "cell_type": "code",
   "execution_count": 1,
   "metadata": {},
   "outputs": [],
   "source": [
    "#Import packages\n",
    "\n",
    "import numpy as np\n",
    "import pandas as pd \n",
    "import glob\n",
    "import os\n",
    "from sklearn import preprocessing\n",
    "from sklearn.preprocessing import StandardScaler\n",
    "from sklearn.ensemble import RandomForestClassifier\n",
    "from sklearn.model_selection import GridSearchCV\n",
    "from sklearn.model_selection import train_test_split\n",
    "from sklearn.metrics import confusion_matrix, accuracy_score\n",
    "\n",
    "\n",
    "path = r'C:\\Users\\leyen\\OneDrive\\Desktop\\School Works\\Dr.Soibam Research\\Summer2021\\18states'\n",
    "os.chdir(path)\n",
    "myFiles = glob.glob('*.txt')"
   ]
  },
  {
   "cell_type": "code",
   "execution_count": 2,
   "metadata": {
    "scrolled": true
   },
   "outputs": [],
   "source": [
    "cell = []        \n",
    "cells = []\n",
    "for i in range(0, len(myFiles)):\n",
    "    if i % 2 == 0:\n",
    "        cell.append(myFiles[i].replace('.txt.boundary.bed.18core.states.matrix.txt',''))\n",
    "        cells.append(myFiles[i].replace('.txt.boundary.bed.18core.states.matrix.txt',''))\n",
    "    if i % 2 == 1:\n",
    "        cells.append(myFiles[i].replace('.txt.boundary.bed.random.18core.states.matrix.txt',''))\n"
   ]
  },
  {
   "cell_type": "code",
   "execution_count": 3,
   "metadata": {},
   "outputs": [
    {
     "data": {
      "text/plain": [
       "['A549_raw-rep1_TADs',\n",
       " 'AdrenalGland_Donor-AD2-raw_TADs',\n",
       " 'Aorta_STL002_Leung2015-raw_TADs',\n",
       " 'H1-ESC_Dixon2015-raw_TADs',\n",
       " 'H1-MES_Dixon2015-raw_TADs',\n",
       " 'H1-MSC_Dixon2015-raw_TADs',\n",
       " 'H1-NPC_Dixon2015-raw_TADs',\n",
       " 'H1-TRO_Dixon2015-raw_TADs',\n",
       " 'HMEC_Lieberman-raw_TADs',\n",
       " 'HUVEC_Lieberman-raw_TADs',\n",
       " 'IMR90_Lieberman-raw_TADs',\n",
       " 'K562_Lieberman-raw_TADs',\n",
       " 'Liver_STL011_Leung2015-raw_TADs',\n",
       " 'Lung_Donor-LG1-raw_TADs',\n",
       " 'Muscle_Psoas_Donor-PO1-raw_TADs',\n",
       " 'NHEK_Lieberman-raw_TADs',\n",
       " 'Pancreas_Donor-PA2-raw_TADs',\n",
       " 'Spleen_Donor-PX1-raw_TADs',\n",
       " 'Thymus_STL001_Leung2015-raw_TADs',\n",
       " 'VentricleLeft_STL003_Leung2015-raw_TADs',\n",
       " 'VentricleRight_Donor-RV3-raw_TADs']"
      ]
     },
     "execution_count": 3,
     "metadata": {},
     "output_type": "execute_result"
    }
   ],
   "source": [
    "cell"
   ]
  },
  {
   "cell_type": "code",
   "execution_count": 4,
   "metadata": {},
   "outputs": [],
   "source": [
    "name = ['A549_raw-rep1_TADs',\n",
    " 'AdrenalGland_Donor-AD2-raw_TADs',\n",
    " 'Aorta_STL002_Leung2015-raw_TADs',\n",
    " 'H1-ESC_Dixon2015-raw_TADs',\n",
    " 'H1-MES_Dixon2015-raw_TADs',\n",
    " 'H1-MSC_Dixon2015-raw_TADs',\n",
    " 'H1-NPC_Dixon2015-raw_TADs',\n",
    " 'H1-TRO_Dixon2015-raw_TADs',\n",
    " 'HMEC_Lieberman-raw_TADs',\n",
    " 'HUVEC_Lieberman-raw_TADs',\n",
    " 'IMR90_Lieberman-raw_TADs',\n",
    " 'K562_Lieberman-raw_TADs',\n",
    " 'Liver_STL011_Leung2015-raw_TADs',\n",
    " 'Lung_Donor-LG1-raw_TADs',\n",
    " 'Muscle_Psoas_Donor-PO1-raw_TADs',\n",
    " 'NHEK_Lieberman-raw_TADs',\n",
    " 'Pancreas_Donor-PA2-raw_TADs',\n",
    " 'Spleen_Donor-PX1-raw_TADs',\n",
    " 'Thymus_STL001_Leung2015-raw_TADs',\n",
    " 'VentricleLeft_STL003_Leung2015-raw_TADs',\n",
    " 'VentricleRight_Donor-RV3-raw_TADs']"
   ]
  },
  {
   "cell_type": "code",
   "execution_count": 5,
   "metadata": {},
   "outputs": [],
   "source": [
    "cell_nonRand = []        \n",
    "cell_Rand = []\n",
    "for i in range(0, len(myFiles)):\n",
    "    if i % 2 == 0:\n",
    "        cell_nonRand.append(myFiles[i])\n",
    "    if i % 2 == 1:\n",
    "        cell_Rand.append(myFiles[i])"
   ]
  },
  {
   "cell_type": "code",
   "execution_count": 6,
   "metadata": {},
   "outputs": [],
   "source": [
    "for i in range(0, 21):\n",
    "    nonRand = pd.read_csv(path+'\\\\'+cell_nonRand[i],delimiter = \"\\t\", header = None)\n",
    "    Rand = pd.read_csv(path+'\\\\'+cell_Rand[i],delimiter = \"\\t\", header = None)\n",
    "    nonRand = nonRand.iloc[:,3:]\n",
    "    Rand = Rand.iloc[:,3:]\n",
    "    nonRand.columns = [1,2,3,4,5,6,7,8,9,10,11,12,13,14,15,16,17,18]\n",
    "    Rand.columns = [1,2,3,4,5,6,7,8,9,10,11,12,13,14,15,16,17,18]\n",
    "    nonRand['label'] = 1\n",
    "    Rand['label'] = 0\n",
    "    cell[i] = pd.concat([nonRand, Rand])"
   ]
  },
  {
   "cell_type": "code",
   "execution_count": 7,
   "metadata": {},
   "outputs": [
    {
     "data": {
      "text/html": [
       "<div>\n",
       "<style scoped>\n",
       "    .dataframe tbody tr th:only-of-type {\n",
       "        vertical-align: middle;\n",
       "    }\n",
       "\n",
       "    .dataframe tbody tr th {\n",
       "        vertical-align: top;\n",
       "    }\n",
       "\n",
       "    .dataframe thead th {\n",
       "        text-align: right;\n",
       "    }\n",
       "</style>\n",
       "<table border=\"1\" class=\"dataframe\">\n",
       "  <thead>\n",
       "    <tr style=\"text-align: right;\">\n",
       "      <th></th>\n",
       "      <th>1</th>\n",
       "      <th>2</th>\n",
       "      <th>3</th>\n",
       "      <th>4</th>\n",
       "      <th>5</th>\n",
       "      <th>6</th>\n",
       "      <th>7</th>\n",
       "      <th>8</th>\n",
       "      <th>9</th>\n",
       "      <th>10</th>\n",
       "      <th>11</th>\n",
       "      <th>12</th>\n",
       "      <th>13</th>\n",
       "      <th>14</th>\n",
       "      <th>15</th>\n",
       "      <th>16</th>\n",
       "      <th>17</th>\n",
       "      <th>18</th>\n",
       "      <th>label</th>\n",
       "    </tr>\n",
       "  </thead>\n",
       "  <tbody>\n",
       "    <tr>\n",
       "      <th>0</th>\n",
       "      <td>0.000000</td>\n",
       "      <td>0.029999</td>\n",
       "      <td>0.000000</td>\n",
       "      <td>0.005</td>\n",
       "      <td>0.000000</td>\n",
       "      <td>0.114997</td>\n",
       "      <td>0.000000</td>\n",
       "      <td>0.000000</td>\n",
       "      <td>0.000000</td>\n",
       "      <td>0.0</td>\n",
       "      <td>0.079998</td>\n",
       "      <td>0.000000</td>\n",
       "      <td>0.000</td>\n",
       "      <td>0.000000</td>\n",
       "      <td>0.000</td>\n",
       "      <td>0.000000</td>\n",
       "      <td>0.000000</td>\n",
       "      <td>0.770006</td>\n",
       "      <td>1</td>\n",
       "    </tr>\n",
       "    <tr>\n",
       "      <th>1</th>\n",
       "      <td>0.025024</td>\n",
       "      <td>0.000000</td>\n",
       "      <td>0.024999</td>\n",
       "      <td>0.010</td>\n",
       "      <td>0.059999</td>\n",
       "      <td>0.799980</td>\n",
       "      <td>0.000000</td>\n",
       "      <td>0.000000</td>\n",
       "      <td>0.000000</td>\n",
       "      <td>0.0</td>\n",
       "      <td>0.079998</td>\n",
       "      <td>0.000000</td>\n",
       "      <td>0.000</td>\n",
       "      <td>0.000000</td>\n",
       "      <td>0.000</td>\n",
       "      <td>0.000000</td>\n",
       "      <td>0.000000</td>\n",
       "      <td>0.000000</td>\n",
       "      <td>1</td>\n",
       "    </tr>\n",
       "    <tr>\n",
       "      <th>2</th>\n",
       "      <td>0.000000</td>\n",
       "      <td>0.000000</td>\n",
       "      <td>0.005000</td>\n",
       "      <td>0.015</td>\n",
       "      <td>0.254994</td>\n",
       "      <td>0.220020</td>\n",
       "      <td>0.015000</td>\n",
       "      <td>0.000000</td>\n",
       "      <td>0.049999</td>\n",
       "      <td>0.0</td>\n",
       "      <td>0.159996</td>\n",
       "      <td>0.000000</td>\n",
       "      <td>0.000</td>\n",
       "      <td>0.000000</td>\n",
       "      <td>0.000</td>\n",
       "      <td>0.000000</td>\n",
       "      <td>0.000000</td>\n",
       "      <td>0.279993</td>\n",
       "      <td>1</td>\n",
       "    </tr>\n",
       "    <tr>\n",
       "      <th>3</th>\n",
       "      <td>0.084998</td>\n",
       "      <td>0.029999</td>\n",
       "      <td>0.000000</td>\n",
       "      <td>0.005</td>\n",
       "      <td>0.079998</td>\n",
       "      <td>0.050024</td>\n",
       "      <td>0.229994</td>\n",
       "      <td>0.044999</td>\n",
       "      <td>0.000000</td>\n",
       "      <td>0.0</td>\n",
       "      <td>0.000000</td>\n",
       "      <td>0.000000</td>\n",
       "      <td>0.000</td>\n",
       "      <td>0.000000</td>\n",
       "      <td>0.000</td>\n",
       "      <td>0.000000</td>\n",
       "      <td>0.000000</td>\n",
       "      <td>0.474988</td>\n",
       "      <td>1</td>\n",
       "    </tr>\n",
       "    <tr>\n",
       "      <th>4</th>\n",
       "      <td>0.000000</td>\n",
       "      <td>0.000000</td>\n",
       "      <td>0.000000</td>\n",
       "      <td>0.000</td>\n",
       "      <td>0.000000</td>\n",
       "      <td>0.025024</td>\n",
       "      <td>0.000000</td>\n",
       "      <td>0.000000</td>\n",
       "      <td>0.000000</td>\n",
       "      <td>0.0</td>\n",
       "      <td>0.000000</td>\n",
       "      <td>0.034999</td>\n",
       "      <td>0.005</td>\n",
       "      <td>0.000000</td>\n",
       "      <td>0.000</td>\n",
       "      <td>0.000000</td>\n",
       "      <td>0.000000</td>\n",
       "      <td>0.934977</td>\n",
       "      <td>1</td>\n",
       "    </tr>\n",
       "    <tr>\n",
       "      <th>...</th>\n",
       "      <td>...</td>\n",
       "      <td>...</td>\n",
       "      <td>...</td>\n",
       "      <td>...</td>\n",
       "      <td>...</td>\n",
       "      <td>...</td>\n",
       "      <td>...</td>\n",
       "      <td>...</td>\n",
       "      <td>...</td>\n",
       "      <td>...</td>\n",
       "      <td>...</td>\n",
       "      <td>...</td>\n",
       "      <td>...</td>\n",
       "      <td>...</td>\n",
       "      <td>...</td>\n",
       "      <td>...</td>\n",
       "      <td>...</td>\n",
       "      <td>...</td>\n",
       "      <td>...</td>\n",
       "    </tr>\n",
       "    <tr>\n",
       "      <th>3008</th>\n",
       "      <td>0.000000</td>\n",
       "      <td>0.015000</td>\n",
       "      <td>0.000000</td>\n",
       "      <td>0.000</td>\n",
       "      <td>0.000000</td>\n",
       "      <td>0.000000</td>\n",
       "      <td>0.000000</td>\n",
       "      <td>0.000000</td>\n",
       "      <td>0.000000</td>\n",
       "      <td>0.0</td>\n",
       "      <td>0.000000</td>\n",
       "      <td>0.000000</td>\n",
       "      <td>0.000</td>\n",
       "      <td>0.034999</td>\n",
       "      <td>0.000</td>\n",
       "      <td>0.424989</td>\n",
       "      <td>0.525012</td>\n",
       "      <td>0.000000</td>\n",
       "      <td>0</td>\n",
       "    </tr>\n",
       "    <tr>\n",
       "      <th>3009</th>\n",
       "      <td>0.024999</td>\n",
       "      <td>0.010000</td>\n",
       "      <td>0.000000</td>\n",
       "      <td>0.000</td>\n",
       "      <td>0.000000</td>\n",
       "      <td>0.020000</td>\n",
       "      <td>0.000000</td>\n",
       "      <td>0.000000</td>\n",
       "      <td>0.000000</td>\n",
       "      <td>0.0</td>\n",
       "      <td>0.020000</td>\n",
       "      <td>0.000000</td>\n",
       "      <td>0.000</td>\n",
       "      <td>0.000000</td>\n",
       "      <td>0.005</td>\n",
       "      <td>0.015000</td>\n",
       "      <td>0.905002</td>\n",
       "      <td>0.000000</td>\n",
       "      <td>0</td>\n",
       "    </tr>\n",
       "    <tr>\n",
       "      <th>3010</th>\n",
       "      <td>0.024999</td>\n",
       "      <td>0.020000</td>\n",
       "      <td>0.010000</td>\n",
       "      <td>0.000</td>\n",
       "      <td>0.000000</td>\n",
       "      <td>0.152146</td>\n",
       "      <td>0.000000</td>\n",
       "      <td>0.000000</td>\n",
       "      <td>0.000000</td>\n",
       "      <td>0.0</td>\n",
       "      <td>0.034999</td>\n",
       "      <td>0.000000</td>\n",
       "      <td>0.000</td>\n",
       "      <td>0.000000</td>\n",
       "      <td>0.000</td>\n",
       "      <td>0.000000</td>\n",
       "      <td>0.000000</td>\n",
       "      <td>0.757856</td>\n",
       "      <td>0</td>\n",
       "    </tr>\n",
       "    <tr>\n",
       "      <th>3011</th>\n",
       "      <td>0.000000</td>\n",
       "      <td>0.000000</td>\n",
       "      <td>0.024999</td>\n",
       "      <td>0.000</td>\n",
       "      <td>0.054999</td>\n",
       "      <td>0.215020</td>\n",
       "      <td>0.094998</td>\n",
       "      <td>0.039999</td>\n",
       "      <td>0.010000</td>\n",
       "      <td>0.0</td>\n",
       "      <td>0.214995</td>\n",
       "      <td>0.000000</td>\n",
       "      <td>0.000</td>\n",
       "      <td>0.000000</td>\n",
       "      <td>0.000</td>\n",
       "      <td>0.000000</td>\n",
       "      <td>0.000000</td>\n",
       "      <td>0.344991</td>\n",
       "      <td>0</td>\n",
       "    </tr>\n",
       "    <tr>\n",
       "      <th>3012</th>\n",
       "      <td>0.000000</td>\n",
       "      <td>0.000000</td>\n",
       "      <td>0.000000</td>\n",
       "      <td>0.000</td>\n",
       "      <td>0.000000</td>\n",
       "      <td>0.000000</td>\n",
       "      <td>0.000000</td>\n",
       "      <td>0.000000</td>\n",
       "      <td>0.000000</td>\n",
       "      <td>0.0</td>\n",
       "      <td>0.020000</td>\n",
       "      <td>0.000000</td>\n",
       "      <td>0.000</td>\n",
       "      <td>0.000000</td>\n",
       "      <td>0.000</td>\n",
       "      <td>0.000000</td>\n",
       "      <td>0.590010</td>\n",
       "      <td>0.389990</td>\n",
       "      <td>0</td>\n",
       "    </tr>\n",
       "  </tbody>\n",
       "</table>\n",
       "<p>6026 rows × 19 columns</p>\n",
       "</div>"
      ],
      "text/plain": [
       "             1         2         3      4         5         6         7  \\\n",
       "0     0.000000  0.029999  0.000000  0.005  0.000000  0.114997  0.000000   \n",
       "1     0.025024  0.000000  0.024999  0.010  0.059999  0.799980  0.000000   \n",
       "2     0.000000  0.000000  0.005000  0.015  0.254994  0.220020  0.015000   \n",
       "3     0.084998  0.029999  0.000000  0.005  0.079998  0.050024  0.229994   \n",
       "4     0.000000  0.000000  0.000000  0.000  0.000000  0.025024  0.000000   \n",
       "...        ...       ...       ...    ...       ...       ...       ...   \n",
       "3008  0.000000  0.015000  0.000000  0.000  0.000000  0.000000  0.000000   \n",
       "3009  0.024999  0.010000  0.000000  0.000  0.000000  0.020000  0.000000   \n",
       "3010  0.024999  0.020000  0.010000  0.000  0.000000  0.152146  0.000000   \n",
       "3011  0.000000  0.000000  0.024999  0.000  0.054999  0.215020  0.094998   \n",
       "3012  0.000000  0.000000  0.000000  0.000  0.000000  0.000000  0.000000   \n",
       "\n",
       "             8         9   10        11        12     13        14     15  \\\n",
       "0     0.000000  0.000000  0.0  0.079998  0.000000  0.000  0.000000  0.000   \n",
       "1     0.000000  0.000000  0.0  0.079998  0.000000  0.000  0.000000  0.000   \n",
       "2     0.000000  0.049999  0.0  0.159996  0.000000  0.000  0.000000  0.000   \n",
       "3     0.044999  0.000000  0.0  0.000000  0.000000  0.000  0.000000  0.000   \n",
       "4     0.000000  0.000000  0.0  0.000000  0.034999  0.005  0.000000  0.000   \n",
       "...        ...       ...  ...       ...       ...    ...       ...    ...   \n",
       "3008  0.000000  0.000000  0.0  0.000000  0.000000  0.000  0.034999  0.000   \n",
       "3009  0.000000  0.000000  0.0  0.020000  0.000000  0.000  0.000000  0.005   \n",
       "3010  0.000000  0.000000  0.0  0.034999  0.000000  0.000  0.000000  0.000   \n",
       "3011  0.039999  0.010000  0.0  0.214995  0.000000  0.000  0.000000  0.000   \n",
       "3012  0.000000  0.000000  0.0  0.020000  0.000000  0.000  0.000000  0.000   \n",
       "\n",
       "            16        17        18  label  \n",
       "0     0.000000  0.000000  0.770006      1  \n",
       "1     0.000000  0.000000  0.000000      1  \n",
       "2     0.000000  0.000000  0.279993      1  \n",
       "3     0.000000  0.000000  0.474988      1  \n",
       "4     0.000000  0.000000  0.934977      1  \n",
       "...        ...       ...       ...    ...  \n",
       "3008  0.424989  0.525012  0.000000      0  \n",
       "3009  0.015000  0.905002  0.000000      0  \n",
       "3010  0.000000  0.000000  0.757856      0  \n",
       "3011  0.000000  0.000000  0.344991      0  \n",
       "3012  0.000000  0.590010  0.389990      0  \n",
       "\n",
       "[6026 rows x 19 columns]"
      ]
     },
     "execution_count": 7,
     "metadata": {},
     "output_type": "execute_result"
    }
   ],
   "source": [
    "cell[0]"
   ]
  },
  {
   "cell_type": "code",
   "execution_count": 8,
   "metadata": {},
   "outputs": [
    {
     "name": "stdout",
     "output_type": "stream",
     "text": [
      "A549_raw-rep1_TADs\n",
      "[[416 206]\n",
      " [234 350]]\n",
      "0.6351575456053068\n",
      "\n",
      "AdrenalGland_Donor-AD2-raw_TADs\n",
      "[[381 228]\n",
      " [237 326]]\n",
      "0.6032423208191127\n",
      "\n",
      "Aorta_STL002_Leung2015-raw_TADs\n",
      "[[328 213]\n",
      " [232 310]]\n",
      "0.5891043397968606\n",
      "\n",
      "H1-ESC_Dixon2015-raw_TADs\n",
      "[[510 263]\n",
      " [315 453]]\n",
      "0.6249188838416613\n",
      "\n",
      "H1-MES_Dixon2015-raw_TADs\n",
      "[[509 275]\n",
      " [307 459]]\n",
      "0.6245161290322581\n",
      "\n",
      "H1-MSC_Dixon2015-raw_TADs\n",
      "[[444 279]\n",
      " [252 433]]\n",
      "0.6228693181818182\n",
      "\n",
      "H1-NPC_Dixon2015-raw_TADs\n",
      "[[408 221]\n",
      " [237 314]]\n",
      "0.611864406779661\n",
      "\n",
      "H1-TRO_Dixon2015-raw_TADs\n",
      "[[468 245]\n",
      " [249 451]]\n",
      "0.6503892427459307\n",
      "\n",
      "HMEC_Lieberman-raw_TADs\n",
      "[[719 302]\n",
      " [399 588]]\n",
      "0.6508964143426295\n",
      "\n",
      "HUVEC_Lieberman-raw_TADs\n",
      "[[578 317]\n",
      " [317 606]]\n",
      "0.6512651265126512\n",
      "\n",
      "IMR90_Lieberman-raw_TADs\n",
      "[[621 322]\n",
      " [283 644]]\n",
      "0.6764705882352942\n",
      "\n",
      "K562_Lieberman-raw_TADs\n",
      "[[582 275]\n",
      " [331 520]]\n",
      "0.6451990632318502\n",
      "\n",
      "Liver_STL011_Leung2015-raw_TADs\n",
      "[[241 165]\n",
      " [184 244]]\n",
      "0.5815347721822542\n",
      "\n",
      "Lung_Donor-LG1-raw_TADs\n",
      "[[384 244]\n",
      " [248 330]]\n",
      "0.5920398009950248\n",
      "\n",
      "Muscle_Psoas_Donor-PO1-raw_TADs\n",
      "[[310 171]\n",
      " [238 252]]\n",
      "0.5787847579814624\n",
      "\n",
      "NHEK_Lieberman-raw_TADs\n",
      "[[623 334]\n",
      " [329 611]]\n",
      "0.6505007907221929\n",
      "\n",
      "Pancreas_Donor-PA2-raw_TADs\n",
      "[[342 191]\n",
      " [256 265]]\n",
      "0.5759013282732448\n",
      "\n",
      "Spleen_Donor-PX1-raw_TADs\n",
      "[[394 261]\n",
      " [279 318]]\n",
      "0.5686900958466453\n",
      "\n",
      "Thymus_STL001_Leung2015-raw_TADs\n",
      "[[242 141]\n",
      " [211 142]]\n",
      "0.5217391304347826\n",
      "\n",
      "VentricleLeft_STL003_Leung2015-raw_TADs\n",
      "[[363 227]\n",
      " [226 331]]\n",
      "0.6050566695727986\n",
      "\n",
      "VentricleRight_Donor-RV3-raw_TADs\n",
      "[[365 217]\n",
      " [231 337]]\n",
      "0.6104347826086957\n",
      "\n"
     ]
    }
   ],
   "source": [
    "for i in range(0, 21):\n",
    "    \n",
    "    #Indicate features and class label\n",
    "    x = cell[i].iloc[:,0:-1].apply(pd.to_numeric,errors='coerce')\n",
    "    y = cell[i][\"label\"].astype('int')\n",
    "    \n",
    "    #Split data into training (80%) and testing (testing)\n",
    "    x_train, x_test, y_train, y_test = train_test_split(x, y, test_size=0.20, random_state=12)\n",
    "    \n",
    "    #Scale the features to center zero mean and unit standard deviation\n",
    "    ss = StandardScaler()\n",
    "    x_train = ss.fit_transform(x_train)\n",
    "    x_test = ss.transform(x_test)\n",
    "    \n",
    "    #Build the random forest model\n",
    "    model = RandomForestClassifier()\n",
    "    model.fit(x_train, y_train)\n",
    "    \n",
    "    #Check y prediction\n",
    "    y_pred = model.predict(x_test)\n",
    "    \n",
    "    #Check report on confusion_matrix and accuracy score\n",
    "    print(name[i])\n",
    "    print(confusion_matrix(y_test, y_pred))\n",
    "    print(accuracy_score(y_test, y_pred))\n",
    "    print()"
   ]
  },
  {
   "cell_type": "code",
   "execution_count": 9,
   "metadata": {
    "scrolled": true
   },
   "outputs": [],
   "source": [
    "#Indicate features and class label\n",
    "x = cell[0].iloc[:,0:-1].apply(pd.to_numeric,errors='coerce')\n",
    "y = cell[0][\"label\"].astype('int')"
   ]
  },
  {
   "cell_type": "code",
   "execution_count": 10,
   "metadata": {},
   "outputs": [],
   "source": [
    "#Split data into training (80%) and testing (testing)\n",
    "x_train, x_test, y_train, y_test = train_test_split(x, y, test_size=0.20, random_state=12)"
   ]
  },
  {
   "cell_type": "code",
   "execution_count": 11,
   "metadata": {},
   "outputs": [],
   "source": [
    "#Scale the features to center zero mean and unit standard deviation\n",
    "ss = StandardScaler()\n",
    "x_train = ss.fit_transform(x_train)\n",
    "x_test = ss.transform(x_test)"
   ]
  },
  {
   "cell_type": "markdown",
   "metadata": {},
   "source": [
    "## Classic random forest model"
   ]
  },
  {
   "cell_type": "code",
   "execution_count": 12,
   "metadata": {},
   "outputs": [
    {
     "data": {
      "text/plain": [
       "RandomForestClassifier()"
      ]
     },
     "execution_count": 12,
     "metadata": {},
     "output_type": "execute_result"
    }
   ],
   "source": [
    "#Build the random forest model\n",
    "model = RandomForestClassifier()\n",
    "model.fit(x_train, y_train)"
   ]
  },
  {
   "cell_type": "code",
   "execution_count": 13,
   "metadata": {
    "scrolled": true
   },
   "outputs": [
    {
     "data": {
      "text/plain": [
       "array([0, 0, 1, ..., 1, 1, 1])"
      ]
     },
     "execution_count": 13,
     "metadata": {},
     "output_type": "execute_result"
    }
   ],
   "source": [
    "#Check y prediction\n",
    "y_pred = model.predict(x_test)\n",
    "\n",
    "y_pred"
   ]
  },
  {
   "cell_type": "code",
   "execution_count": 14,
   "metadata": {},
   "outputs": [
    {
     "name": "stdout",
     "output_type": "stream",
     "text": [
      "[[411 211]\n",
      " [223 361]]\n",
      "0.6401326699834162\n"
     ]
    }
   ],
   "source": [
    "#Check report on confusion_matrix and accuracy score\n",
    "from sklearn.metrics import confusion_matrix, accuracy_score\n",
    "print(confusion_matrix(y_test, y_pred))\n",
    "print(accuracy_score(y_test, y_pred))"
   ]
  },
  {
   "cell_type": "markdown",
   "metadata": {},
   "source": [
    "## Random forest model with 10-fold cross validation"
   ]
  },
  {
   "cell_type": "code",
   "execution_count": 15,
   "metadata": {},
   "outputs": [
    {
     "name": "stdout",
     "output_type": "stream",
     "text": [
      "[0.63485477 0.63900415 0.65352697 0.63692946 0.62448133 0.64107884\n",
      " 0.63692946 0.60580913 0.6473029  0.65767635]\n",
      "[0.61983471 0.68595041 0.53719008 0.6446281  0.66115702 0.57024793\n",
      " 0.55833333 0.63333333 0.59166667 0.61666667]\n"
     ]
    }
   ],
   "source": [
    "#Using 10-fold cross validation on the random forest model\n",
    "from sklearn.model_selection import cross_val_score\n",
    "train_score = cross_val_score(model, x_train, y_train, scoring = 'accuracy', cv=10)\n",
    "test_score = cross_val_score(model, x_test, y_test, scoring = 'accuracy', cv=10)\n",
    "\n",
    "print(train_score)\n",
    "print(test_score)"
   ]
  },
  {
   "cell_type": "markdown",
   "metadata": {},
   "source": [
    "## Further tuning the model’s hyperparameters with GridSearchCV"
   ]
  },
  {
   "cell_type": "code",
   "execution_count": 16,
   "metadata": {},
   "outputs": [],
   "source": [
    "model_param = {\n",
    "    'n_estimators': [100, 200, 300],\n",
    "    'criterion': ['gini', 'entropy'],\n",
    "    'bootstrap': [True, False]\n",
    "}"
   ]
  },
  {
   "cell_type": "code",
   "execution_count": 17,
   "metadata": {},
   "outputs": [],
   "source": [
    "# set up grid search meta-estimator\n",
    "clf = GridSearchCV(model, model_param, scoring='accuracy', cv=10)\n",
    "\n",
    "# train the grid search meta-estimator to find the best model\n",
    "mod = clf.fit(x, y)"
   ]
  },
  {
   "cell_type": "code",
   "execution_count": 18,
   "metadata": {
    "scrolled": true
   },
   "outputs": [
    {
     "name": "stdout",
     "output_type": "stream",
     "text": [
      "Best Parameters:  {'bootstrap': True, 'criterion': 'gini', 'n_estimators': 300}\n",
      "Best Score:  0.6354153925830428\n"
     ]
    }
   ],
   "source": [
    "#Print out the the best parameter and score\n",
    "params = clf.best_params_\n",
    "print(\"Best Parameters: \", params)\n",
    "\n",
    "score = clf.best_score_\n",
    "print(\"Best Score: \", score)"
   ]
  },
  {
   "cell_type": "markdown",
   "metadata": {},
   "source": [
    "## Accuracy, AUC (area under the curve) score, Precision, Recall, F1 score"
   ]
  },
  {
   "cell_type": "code",
   "execution_count": 19,
   "metadata": {},
   "outputs": [
    {
     "name": "stdout",
     "output_type": "stream",
     "text": [
      "Accuracy:  0.6401326699834162\n",
      "Precision:  0.6311188811188811\n",
      "Recall:  0.6181506849315068\n",
      "F1 score:  0.6245674740484429\n"
     ]
    }
   ],
   "source": [
    "#Accuracy, Precision, Recall, F1 score\n",
    "from sklearn.metrics import accuracy_score, precision_score, recall_score, f1_score\n",
    "\n",
    "print(\"Accuracy: \", accuracy_score(y_test, y_pred))\n",
    "print(\"Precision: \", precision_score(y_test, y_pred))\n",
    "print(\"Recall: \", recall_score(y_test, y_pred))\n",
    "print(\"F1 score: \", f1_score(y_test, y_pred))"
   ]
  },
  {
   "cell_type": "code",
   "execution_count": 20,
   "metadata": {
    "scrolled": false
   },
   "outputs": [
    {
     "data": {
      "image/png": "[encoded data removed]",
      "text/plain": [
       "<Figure size 720x720 with 1 Axes>"
      ]
     },
     "metadata": {
      "needs_background": "light"
     },
     "output_type": "display_data"
    }
   ],
   "source": [
    "#AUC\n",
    "\n",
    "from sklearn.metrics import classification_report\n",
    "from sklearn.metrics import roc_curve, auc\n",
    "import matplotlib.pyplot as plt\n",
    "\n",
    "# overall accuracy\n",
    "acc = clf.score(x_test,y_test)\n",
    "\n",
    "# get roc/auc info\n",
    "y_score = clf.predict_proba(x_test)[:,1]\n",
    "fpr = dict()\n",
    "tpr = dict()\n",
    "fpr, tpr, _ = roc_curve(y_test, y_score)\n",
    "\n",
    "roc_auc = dict()\n",
    "roc_auc = auc(fpr, tpr)\n",
    "\n",
    "# make the plot\n",
    "plt.figure(figsize=(10,10))\n",
    "plt.plot([0, 1], [0, 1], 'k--')\n",
    "plt.xlim([-0.05, 1.0])\n",
    "plt.ylim([0.0, 1.05])\n",
    "plt.xlabel('False Positive Rate')\n",
    "plt.ylabel('True Positive Rate')\n",
    "plt.grid(True)\n",
    "plt.plot(fpr, tpr, label='AUC = {0}'.format(roc_auc))        \n",
    "plt.legend(loc=\"lower right\", shadow=True, fancybox =True) \n",
    "plt.show()"
   ]
  },
  {
   "cell_type": "markdown",
   "metadata": {},
   "source": [
    "## Save the trained model to a file"
   ]
  },
  {
   "cell_type": "code",
   "execution_count": 21,
   "metadata": {},
   "outputs": [],
   "source": [
    "# import pickle \n",
    "# filename = 'rao_huvec.pickle'\n",
    "# pickle.dump(model, open(filename, 'wb'))"
   ]
  }
 ],
 "metadata": {
  "kernelspec": {
   "display_name": "Python 3",
   "language": "python",
   "name": "python3"
  },
  "language_info": {
   "codemirror_mode": {
    "name": "ipython",
    "version": 3
   },
   "file_extension": ".py",
   "mimetype": "text/x-python",
   "name": "python",
   "nbconvert_exporter": "python",
   "pygments_lexer": "ipython3",
   "version": "3.8.3"
  }
 },
 "nbformat": 4,
 "nbformat_minor": 4
}
