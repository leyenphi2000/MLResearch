{
 "cells": [
  {
   "cell_type": "code",
   "execution_count": 1,
   "metadata": {},
   "outputs": [
    {
     "name": "stderr",
     "output_type": "stream",
     "text": [
      "C:\\Users\\leyen\\anaconda3\\lib\\site-packages\\IPython\\core\\interactiveshell.py:3071: DtypeWarning: Columns (1,2,3,4,5,6,7,8,9,10,11,12,13,14,15,16,17,18,19,20,21,22,23,24,25,26,27,28,29,30,31,32,33,34,35,36,37,38,39,40,41,42,43,44,45,46,47,48,49,50,51,52,53,54,55,56,57,58,59,60,61,62,63,64,65,66,67,68,69,70,71,72,73,74,75,76,77,78,79,80,81,82,83,84,85,86,87,88,89,90,91,92,93,94,95,96,97,98,99,100,101,102,103,104,105,106,107,108,109,110,111,112,113,114,115,116,117,118,119,120,121,122,123,124,125,126,127,128,129,130,131,132,133,134,135,136,137,138,139,140,141,142,143,144,145,146,147,148,149,150,151,152,153,154,155,156,157,158,159,160,161,162,163,164,165,166,167,168,169,170,171,172,173,174,175,176,177,178,179,180,181,182,183,184,185,186,187,188,189,190,191,192,193,194,195,196,197,198,199,200,201,202,203,204,205,206,207,208,209,210,211,212,213,214,215,216,217,218,219,220,221,222,223,224,225,226,227,228,229,230,231,232,233,234,235,236,237,238,239,240,241,242,243,244,245,246,247,248,249,250,251,252,253,254,255,256,257) have mixed types.Specify dtype option on import or set low_memory=False.\n",
      "  has_raised = await self.run_ast_nodes(code_ast.body, cell_name,\n"
     ]
    }
   ],
   "source": [
    "import numpy as np\n",
    "import pandas as pd \n",
    "from sklearn.ensemble import RandomForestRegressor\n",
    "from sklearn.metrics import r2_score,mean_squared_error\n",
    "from sklearn.model_selection import train_test_split\n",
    "from sklearn.preprocessing import LabelEncoder\n",
    "\n",
    "data = pd.read_csv(\"rao_huvec_10kb.tads.boundary.4mer.features.csv\")\n",
    "#data"
   ]
  },
  {
   "cell_type": "code",
   "execution_count": 2,
   "metadata": {
    "scrolled": true
   },
   "outputs": [
    {
     "name": "stdout",
     "output_type": "stream",
     "text": [
      "<class 'pandas.core.frame.DataFrame'>\n",
      "RangeIndex: 13541 entries, 0 to 13540\n",
      "Columns: 258 entries, id to class\n",
      "dtypes: object(258)\n",
      "memory usage: 26.7+ MB\n"
     ]
    }
   ],
   "source": [
    "data.info()"
   ]
  },
  {
   "cell_type": "code",
   "execution_count": 3,
   "metadata": {},
   "outputs": [
    {
     "data": {
      "text/html": [
       "<div>\n",
       "<style scoped>\n",
       "    .dataframe tbody tr th:only-of-type {\n",
       "        vertical-align: middle;\n",
       "    }\n",
       "\n",
       "    .dataframe tbody tr th {\n",
       "        vertical-align: top;\n",
       "    }\n",
       "\n",
       "    .dataframe thead th {\n",
       "        text-align: right;\n",
       "    }\n",
       "</style>\n",
       "<table border=\"1\" class=\"dataframe\">\n",
       "  <thead>\n",
       "    <tr style=\"text-align: right;\">\n",
       "      <th></th>\n",
       "      <th>AAAA</th>\n",
       "      <th>AAAT</th>\n",
       "      <th>AAAG</th>\n",
       "      <th>AAAC</th>\n",
       "      <th>AATA</th>\n",
       "      <th>AATT</th>\n",
       "      <th>AATG</th>\n",
       "      <th>AATC</th>\n",
       "      <th>AAGA</th>\n",
       "      <th>AAGT</th>\n",
       "      <th>...</th>\n",
       "      <th>CCTG</th>\n",
       "      <th>CCTC</th>\n",
       "      <th>CCGA</th>\n",
       "      <th>CCGT</th>\n",
       "      <th>CCGG</th>\n",
       "      <th>CCGC</th>\n",
       "      <th>CCCA</th>\n",
       "      <th>CCCT</th>\n",
       "      <th>CCCG</th>\n",
       "      <th>CCCC</th>\n",
       "    </tr>\n",
       "  </thead>\n",
       "  <tbody>\n",
       "  </tbody>\n",
       "</table>\n",
       "<p>0 rows × 256 columns</p>\n",
       "</div>"
      ],
      "text/plain": [
       "Empty DataFrame\n",
       "Columns: [AAAA, AAAT, AAAG, AAAC, AATA, AATT, AATG, AATC, AAGA, AAGT, AAGG, AAGC, AACA, AACT, AACG, AACC, ATAA, ATAT, ATAG, ATAC, ATTA, ATTT, ATTG, ATTC, ATGA, ATGT, ATGG, ATGC, ATCA, ATCT, ATCG, ATCC, AGAA, AGAT, AGAG, AGAC, AGTA, AGTT, AGTG, AGTC, AGGA, AGGT, AGGG, AGGC, AGCA, AGCT, AGCG, AGCC, ACAA, ACAT, ACAG, ACAC, ACTA, ACTT, ACTG, ACTC, ACGA, ACGT, ACGG, ACGC, ACCA, ACCT, ACCG, ACCC, TAAA, TAAT, TAAG, TAAC, TATA, TATT, TATG, TATC, TAGA, TAGT, TAGG, TAGC, TACA, TACT, TACG, TACC, TTAA, TTAT, TTAG, TTAC, TTTA, TTTT, TTTG, TTTC, TTGA, TTGT, TTGG, TTGC, TTCA, TTCT, TTCG, TTCC, TGAA, TGAT, TGAG, TGAC, ...]\n",
       "Index: []\n",
       "\n",
       "[0 rows x 256 columns]"
      ]
     },
     "execution_count": 3,
     "metadata": {},
     "output_type": "execute_result"
    }
   ],
   "source": [
    "x = data.iloc[:,1:-1].apply(pd.to_numeric,errors='coerce').dropna()\n",
    "y = pd.to_numeric(data[\"class\"],errors='coerce').dropna()\n",
    "x[x.isna().any(axis=1)]"
   ]
  },
  {
   "cell_type": "code",
   "execution_count": 4,
   "metadata": {},
   "outputs": [],
   "source": [
    "x_train, x_test, y_train, y_test = train_test_split(x, y, test_size=0.20, random_state=12)"
   ]
  },
  {
   "cell_type": "code",
   "execution_count": 5,
   "metadata": {},
   "outputs": [
    {
     "data": {
      "text/plain": [
       "RandomForestRegressor()"
      ]
     },
     "execution_count": 5,
     "metadata": {},
     "output_type": "execute_result"
    }
   ],
   "source": [
    "model = RandomForestRegressor()\n",
    "model.fit(x_train, y_train)"
   ]
  },
  {
   "cell_type": "code",
   "execution_count": 6,
   "metadata": {},
   "outputs": [
    {
     "data": {
      "text/plain": [
       "array([0.  , 0.68, 0.81, ..., 0.28, 0.45, 0.74])"
      ]
     },
     "execution_count": 6,
     "metadata": {},
     "output_type": "execute_result"
    }
   ],
   "source": [
    "y_pred = model.predict(x_test)\n",
    "\n",
    "y_pred"
   ]
  },
  {
   "cell_type": "code",
   "execution_count": null,
   "metadata": {},
   "outputs": [],
   "source": [
    "from sklearn.model_selection import cross_val_score\n",
    "train_score = cross_val_score(model, x_train, y_train, scoring = 'accuracy', cv=10)\n",
    "test_score = cross_val_score(model, x_test, y_test, scoring = 'accuracy', cv=10)\n",
    "\n",
    "print(train_score)\n",
    "print(test_score)"
   ]
  }
 ],
 "metadata": {
  "kernelspec": {
   "display_name": "Python 3",
   "language": "python",
   "name": "python3"
  },
  "language_info": {
   "codemirror_mode": {
    "name": "ipython",
    "version": 3
   },
   "file_extension": ".py",
   "mimetype": "text/x-python",
   "name": "python",
   "nbconvert_exporter": "python",
   "pygments_lexer": "ipython3",
   "version": "3.8.3"
  }
 },
 "nbformat": 4,
 "nbformat_minor": 4
}
